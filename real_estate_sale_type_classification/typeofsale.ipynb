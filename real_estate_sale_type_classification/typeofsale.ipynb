{
 "cells": [
  {
   "cell_type": "code",
   "execution_count": 2,
   "id": "118c4659",
   "metadata": {},
   "outputs": [
    {
     "data": {
      "text/html": [
       "<div>\n",
       "<style scoped>\n",
       "    .dataframe tbody tr th:only-of-type {\n",
       "        vertical-align: middle;\n",
       "    }\n",
       "\n",
       "    .dataframe tbody tr th {\n",
       "        vertical-align: top;\n",
       "    }\n",
       "\n",
       "    .dataframe thead th {\n",
       "        text-align: right;\n",
       "    }\n",
       "</style>\n",
       "<table border=\"1\" class=\"dataframe\">\n",
       "  <thead>\n",
       "    <tr style=\"text-align: right;\">\n",
       "      <th></th>\n",
       "      <th>Id</th>\n",
       "      <th>MSSubClass</th>\n",
       "      <th>MSZoning</th>\n",
       "      <th>LotFrontage</th>\n",
       "      <th>LotArea</th>\n",
       "      <th>Street</th>\n",
       "      <th>Alley</th>\n",
       "      <th>LotShape</th>\n",
       "      <th>LandContour</th>\n",
       "      <th>Utilities</th>\n",
       "      <th>...</th>\n",
       "      <th>PoolArea</th>\n",
       "      <th>PoolQC</th>\n",
       "      <th>Fence</th>\n",
       "      <th>MiscFeature</th>\n",
       "      <th>MiscVal</th>\n",
       "      <th>MoSold</th>\n",
       "      <th>YrSold</th>\n",
       "      <th>SaleType</th>\n",
       "      <th>SaleCondition</th>\n",
       "      <th>SalePrice</th>\n",
       "    </tr>\n",
       "  </thead>\n",
       "  <tbody>\n",
       "    <tr>\n",
       "      <th>0</th>\n",
       "      <td>1</td>\n",
       "      <td>60</td>\n",
       "      <td>RL</td>\n",
       "      <td>65.0</td>\n",
       "      <td>8450</td>\n",
       "      <td>Pave</td>\n",
       "      <td>NaN</td>\n",
       "      <td>Reg</td>\n",
       "      <td>Lvl</td>\n",
       "      <td>AllPub</td>\n",
       "      <td>...</td>\n",
       "      <td>0</td>\n",
       "      <td>NaN</td>\n",
       "      <td>NaN</td>\n",
       "      <td>NaN</td>\n",
       "      <td>0</td>\n",
       "      <td>2</td>\n",
       "      <td>2008</td>\n",
       "      <td>WD</td>\n",
       "      <td>Normal</td>\n",
       "      <td>208500</td>\n",
       "    </tr>\n",
       "    <tr>\n",
       "      <th>1</th>\n",
       "      <td>2</td>\n",
       "      <td>20</td>\n",
       "      <td>RL</td>\n",
       "      <td>80.0</td>\n",
       "      <td>9600</td>\n",
       "      <td>Pave</td>\n",
       "      <td>NaN</td>\n",
       "      <td>Reg</td>\n",
       "      <td>Lvl</td>\n",
       "      <td>AllPub</td>\n",
       "      <td>...</td>\n",
       "      <td>0</td>\n",
       "      <td>NaN</td>\n",
       "      <td>NaN</td>\n",
       "      <td>NaN</td>\n",
       "      <td>0</td>\n",
       "      <td>5</td>\n",
       "      <td>2007</td>\n",
       "      <td>WD</td>\n",
       "      <td>Normal</td>\n",
       "      <td>181500</td>\n",
       "    </tr>\n",
       "    <tr>\n",
       "      <th>2</th>\n",
       "      <td>3</td>\n",
       "      <td>60</td>\n",
       "      <td>RL</td>\n",
       "      <td>68.0</td>\n",
       "      <td>11250</td>\n",
       "      <td>Pave</td>\n",
       "      <td>NaN</td>\n",
       "      <td>IR1</td>\n",
       "      <td>Lvl</td>\n",
       "      <td>AllPub</td>\n",
       "      <td>...</td>\n",
       "      <td>0</td>\n",
       "      <td>NaN</td>\n",
       "      <td>NaN</td>\n",
       "      <td>NaN</td>\n",
       "      <td>0</td>\n",
       "      <td>9</td>\n",
       "      <td>2008</td>\n",
       "      <td>WD</td>\n",
       "      <td>Normal</td>\n",
       "      <td>223500</td>\n",
       "    </tr>\n",
       "    <tr>\n",
       "      <th>3</th>\n",
       "      <td>4</td>\n",
       "      <td>70</td>\n",
       "      <td>RL</td>\n",
       "      <td>60.0</td>\n",
       "      <td>9550</td>\n",
       "      <td>Pave</td>\n",
       "      <td>NaN</td>\n",
       "      <td>IR1</td>\n",
       "      <td>Lvl</td>\n",
       "      <td>AllPub</td>\n",
       "      <td>...</td>\n",
       "      <td>0</td>\n",
       "      <td>NaN</td>\n",
       "      <td>NaN</td>\n",
       "      <td>NaN</td>\n",
       "      <td>0</td>\n",
       "      <td>2</td>\n",
       "      <td>2006</td>\n",
       "      <td>WD</td>\n",
       "      <td>Abnorml</td>\n",
       "      <td>140000</td>\n",
       "    </tr>\n",
       "    <tr>\n",
       "      <th>4</th>\n",
       "      <td>5</td>\n",
       "      <td>60</td>\n",
       "      <td>RL</td>\n",
       "      <td>84.0</td>\n",
       "      <td>14260</td>\n",
       "      <td>Pave</td>\n",
       "      <td>NaN</td>\n",
       "      <td>IR1</td>\n",
       "      <td>Lvl</td>\n",
       "      <td>AllPub</td>\n",
       "      <td>...</td>\n",
       "      <td>0</td>\n",
       "      <td>NaN</td>\n",
       "      <td>NaN</td>\n",
       "      <td>NaN</td>\n",
       "      <td>0</td>\n",
       "      <td>12</td>\n",
       "      <td>2008</td>\n",
       "      <td>WD</td>\n",
       "      <td>Normal</td>\n",
       "      <td>250000</td>\n",
       "    </tr>\n",
       "    <tr>\n",
       "      <th>...</th>\n",
       "      <td>...</td>\n",
       "      <td>...</td>\n",
       "      <td>...</td>\n",
       "      <td>...</td>\n",
       "      <td>...</td>\n",
       "      <td>...</td>\n",
       "      <td>...</td>\n",
       "      <td>...</td>\n",
       "      <td>...</td>\n",
       "      <td>...</td>\n",
       "      <td>...</td>\n",
       "      <td>...</td>\n",
       "      <td>...</td>\n",
       "      <td>...</td>\n",
       "      <td>...</td>\n",
       "      <td>...</td>\n",
       "      <td>...</td>\n",
       "      <td>...</td>\n",
       "      <td>...</td>\n",
       "      <td>...</td>\n",
       "      <td>...</td>\n",
       "    </tr>\n",
       "    <tr>\n",
       "      <th>1455</th>\n",
       "      <td>1456</td>\n",
       "      <td>60</td>\n",
       "      <td>RL</td>\n",
       "      <td>62.0</td>\n",
       "      <td>7917</td>\n",
       "      <td>Pave</td>\n",
       "      <td>NaN</td>\n",
       "      <td>Reg</td>\n",
       "      <td>Lvl</td>\n",
       "      <td>AllPub</td>\n",
       "      <td>...</td>\n",
       "      <td>0</td>\n",
       "      <td>NaN</td>\n",
       "      <td>NaN</td>\n",
       "      <td>NaN</td>\n",
       "      <td>0</td>\n",
       "      <td>8</td>\n",
       "      <td>2007</td>\n",
       "      <td>WD</td>\n",
       "      <td>Normal</td>\n",
       "      <td>175000</td>\n",
       "    </tr>\n",
       "    <tr>\n",
       "      <th>1456</th>\n",
       "      <td>1457</td>\n",
       "      <td>20</td>\n",
       "      <td>RL</td>\n",
       "      <td>85.0</td>\n",
       "      <td>13175</td>\n",
       "      <td>Pave</td>\n",
       "      <td>NaN</td>\n",
       "      <td>Reg</td>\n",
       "      <td>Lvl</td>\n",
       "      <td>AllPub</td>\n",
       "      <td>...</td>\n",
       "      <td>0</td>\n",
       "      <td>NaN</td>\n",
       "      <td>MnPrv</td>\n",
       "      <td>NaN</td>\n",
       "      <td>0</td>\n",
       "      <td>2</td>\n",
       "      <td>2010</td>\n",
       "      <td>WD</td>\n",
       "      <td>Normal</td>\n",
       "      <td>210000</td>\n",
       "    </tr>\n",
       "    <tr>\n",
       "      <th>1457</th>\n",
       "      <td>1458</td>\n",
       "      <td>70</td>\n",
       "      <td>RL</td>\n",
       "      <td>66.0</td>\n",
       "      <td>9042</td>\n",
       "      <td>Pave</td>\n",
       "      <td>NaN</td>\n",
       "      <td>Reg</td>\n",
       "      <td>Lvl</td>\n",
       "      <td>AllPub</td>\n",
       "      <td>...</td>\n",
       "      <td>0</td>\n",
       "      <td>NaN</td>\n",
       "      <td>GdPrv</td>\n",
       "      <td>Shed</td>\n",
       "      <td>2500</td>\n",
       "      <td>5</td>\n",
       "      <td>2010</td>\n",
       "      <td>WD</td>\n",
       "      <td>Normal</td>\n",
       "      <td>266500</td>\n",
       "    </tr>\n",
       "    <tr>\n",
       "      <th>1458</th>\n",
       "      <td>1459</td>\n",
       "      <td>20</td>\n",
       "      <td>RL</td>\n",
       "      <td>68.0</td>\n",
       "      <td>9717</td>\n",
       "      <td>Pave</td>\n",
       "      <td>NaN</td>\n",
       "      <td>Reg</td>\n",
       "      <td>Lvl</td>\n",
       "      <td>AllPub</td>\n",
       "      <td>...</td>\n",
       "      <td>0</td>\n",
       "      <td>NaN</td>\n",
       "      <td>NaN</td>\n",
       "      <td>NaN</td>\n",
       "      <td>0</td>\n",
       "      <td>4</td>\n",
       "      <td>2010</td>\n",
       "      <td>WD</td>\n",
       "      <td>Normal</td>\n",
       "      <td>142125</td>\n",
       "    </tr>\n",
       "    <tr>\n",
       "      <th>1459</th>\n",
       "      <td>1460</td>\n",
       "      <td>20</td>\n",
       "      <td>RL</td>\n",
       "      <td>75.0</td>\n",
       "      <td>9937</td>\n",
       "      <td>Pave</td>\n",
       "      <td>NaN</td>\n",
       "      <td>Reg</td>\n",
       "      <td>Lvl</td>\n",
       "      <td>AllPub</td>\n",
       "      <td>...</td>\n",
       "      <td>0</td>\n",
       "      <td>NaN</td>\n",
       "      <td>NaN</td>\n",
       "      <td>NaN</td>\n",
       "      <td>0</td>\n",
       "      <td>6</td>\n",
       "      <td>2008</td>\n",
       "      <td>WD</td>\n",
       "      <td>Normal</td>\n",
       "      <td>147500</td>\n",
       "    </tr>\n",
       "  </tbody>\n",
       "</table>\n",
       "<p>1460 rows × 81 columns</p>\n",
       "</div>"
      ],
      "text/plain": [
       "        Id  MSSubClass MSZoning  LotFrontage  LotArea Street Alley LotShape  \\\n",
       "0        1          60       RL         65.0     8450   Pave   NaN      Reg   \n",
       "1        2          20       RL         80.0     9600   Pave   NaN      Reg   \n",
       "2        3          60       RL         68.0    11250   Pave   NaN      IR1   \n",
       "3        4          70       RL         60.0     9550   Pave   NaN      IR1   \n",
       "4        5          60       RL         84.0    14260   Pave   NaN      IR1   \n",
       "...    ...         ...      ...          ...      ...    ...   ...      ...   \n",
       "1455  1456          60       RL         62.0     7917   Pave   NaN      Reg   \n",
       "1456  1457          20       RL         85.0    13175   Pave   NaN      Reg   \n",
       "1457  1458          70       RL         66.0     9042   Pave   NaN      Reg   \n",
       "1458  1459          20       RL         68.0     9717   Pave   NaN      Reg   \n",
       "1459  1460          20       RL         75.0     9937   Pave   NaN      Reg   \n",
       "\n",
       "     LandContour Utilities  ... PoolArea PoolQC  Fence MiscFeature MiscVal  \\\n",
       "0            Lvl    AllPub  ...        0    NaN    NaN         NaN       0   \n",
       "1            Lvl    AllPub  ...        0    NaN    NaN         NaN       0   \n",
       "2            Lvl    AllPub  ...        0    NaN    NaN         NaN       0   \n",
       "3            Lvl    AllPub  ...        0    NaN    NaN         NaN       0   \n",
       "4            Lvl    AllPub  ...        0    NaN    NaN         NaN       0   \n",
       "...          ...       ...  ...      ...    ...    ...         ...     ...   \n",
       "1455         Lvl    AllPub  ...        0    NaN    NaN         NaN       0   \n",
       "1456         Lvl    AllPub  ...        0    NaN  MnPrv         NaN       0   \n",
       "1457         Lvl    AllPub  ...        0    NaN  GdPrv        Shed    2500   \n",
       "1458         Lvl    AllPub  ...        0    NaN    NaN         NaN       0   \n",
       "1459         Lvl    AllPub  ...        0    NaN    NaN         NaN       0   \n",
       "\n",
       "     MoSold YrSold  SaleType  SaleCondition  SalePrice  \n",
       "0         2   2008        WD         Normal     208500  \n",
       "1         5   2007        WD         Normal     181500  \n",
       "2         9   2008        WD         Normal     223500  \n",
       "3         2   2006        WD        Abnorml     140000  \n",
       "4        12   2008        WD         Normal     250000  \n",
       "...     ...    ...       ...            ...        ...  \n",
       "1455      8   2007        WD         Normal     175000  \n",
       "1456      2   2010        WD         Normal     210000  \n",
       "1457      5   2010        WD         Normal     266500  \n",
       "1458      4   2010        WD         Normal     142125  \n",
       "1459      6   2008        WD         Normal     147500  \n",
       "\n",
       "[1460 rows x 81 columns]"
      ]
     },
     "execution_count": 2,
     "metadata": {},
     "output_type": "execute_result"
    }
   ],
   "source": [
    "import pandas as pd\n",
    "import numpy as np\n",
    "\n",
    "raw_df = pd.read_csv('train.csv')\n",
    "\n",
    "raw_df"
   ]
  },
  {
   "cell_type": "code",
   "execution_count": 3,
   "id": "c729431a",
   "metadata": {},
   "outputs": [],
   "source": [
    "from sklearn import preprocessing\n",
    "from sklearn.preprocessing import scale\n",
    "\n",
    "def add_features(raw_df):\n",
    "    raw_df['TotalSF'] = raw_df['1stFlrSF']+raw_df['2ndFlrSF']+raw_df['TotalBsmtSF']\n",
    "    raw_df['OverallQCP'] = (raw_df['OverallQual']*raw_df['OverallCond'])/100\n",
    "    raw_df['TotalBath'] = raw_df['FullBath']+raw_df['BsmtFullBath']\n",
    "\n",
    "    #create two quant features for location (relevant to price)...median is better\n",
    "    hood_names = raw_df['Neighborhood'].unique()\n",
    "    hood_avg_prices = []\n",
    "    hood_median_prices = []\n",
    "    for name in hood_names:\n",
    "        df_temp = raw_df[(raw_df['Neighborhood']==name)]\n",
    "        avg_price = int(df_temp['SalePrice'].mean())\n",
    "        hood_avg_prices.append(avg_price)\n",
    "        median_price = df_temp['SalePrice'].median()\n",
    "        hood_median_prices.append(median_price)\n",
    "    #     print(\"{} has an average home sale price of {}\".format(name,avg_price))\n",
    "\n",
    "    name_avg_price_dict = dict(zip(hood_names, hood_avg_prices))\n",
    "    raw_df['HoodAvg'] = raw_df['Neighborhood'].map(lambda x: name_avg_price_dict[x])\n",
    "    name_med_price_dict = dict(zip(hood_names, hood_median_prices))\n",
    "    raw_df['HoodMed'] = raw_df['Neighborhood'].map(lambda x: name_med_price_dict[x])\n",
    "\n",
    "    #create quant feature for Functional\n",
    "    func_dict ={\n",
    "        'Typ':7,\n",
    "        'Min1':6,\n",
    "        'Min2':5,\n",
    "        'Mod':4,\n",
    "        'Maj1':3,\n",
    "        'Maj2':2,\n",
    "        'Sev':1,\n",
    "        'Sal':0  \n",
    "    }\n",
    "    raw_df['FuncScore'] = raw_df['Functional'].map(lambda x: func_dict[x])\n",
    "    return raw_df"
   ]
  },
  {
   "cell_type": "code",
   "execution_count": 4,
   "id": "03896506",
   "metadata": {},
   "outputs": [],
   "source": [
    "cols = ['HoodAvg','HoodMed','TotalSF','OverallQCP','FuncScore','TotalBath','TotRmsAbvGrd','BedroomAbvGr','LotArea','GarageArea','SalePrice']\n",
    "\n",
    "def standardize_foi(cols, foi_df):\n",
    "    scaler = preprocessing.MinMaxScaler()\n",
    "    for feature in cols:\n",
    "        feature_mat = foi_df[feature].values.reshape(-1,1)\n",
    "        foi_df.loc[:, feature] = scaler.fit_transform(feature_mat)\n",
    "    return foi_df"
   ]
  },
  {
   "cell_type": "code",
   "execution_count": 5,
   "id": "6c5cf7f1",
   "metadata": {},
   "outputs": [],
   "source": [
    "def prepare_y(raw_df):\n",
    "    raw_df.loc[raw_df['SaleCondition'] == 'Normal', 'SaleCondition'] = 0\n",
    "    raw_df.loc[raw_df['SaleCondition'] != 0, 'SaleCondition'] = 1\n",
    "    return raw_df['SaleCondition']"
   ]
  },
  {
   "cell_type": "code",
   "execution_count": 6,
   "id": "6ee91a43",
   "metadata": {},
   "outputs": [
    {
     "name": "stderr",
     "output_type": "stream",
     "text": [
      "/Users/ronp/opt/anaconda3/lib/python3.9/site-packages/pandas/core/indexing.py:1835: SettingWithCopyWarning: \n",
      "A value is trying to be set on a copy of a slice from a DataFrame.\n",
      "Try using .loc[row_indexer,col_indexer] = value instead\n",
      "\n",
      "See the caveats in the documentation: https://pandas.pydata.org/pandas-docs/stable/user_guide/indexing.html#returning-a-view-versus-a-copy\n",
      "  self._setitem_single_column(loc, value[:, i].tolist(), pi)\n",
      "/Users/ronp/opt/anaconda3/lib/python3.9/site-packages/pandas/core/indexing.py:1835: SettingWithCopyWarning: \n",
      "A value is trying to be set on a copy of a slice from a DataFrame.\n",
      "Try using .loc[row_indexer,col_indexer] = value instead\n",
      "\n",
      "See the caveats in the documentation: https://pandas.pydata.org/pandas-docs/stable/user_guide/indexing.html#returning-a-view-versus-a-copy\n",
      "  self._setitem_single_column(loc, value[:, i].tolist(), pi)\n",
      "/Users/ronp/opt/anaconda3/lib/python3.9/site-packages/pandas/core/indexing.py:1835: SettingWithCopyWarning: \n",
      "A value is trying to be set on a copy of a slice from a DataFrame.\n",
      "Try using .loc[row_indexer,col_indexer] = value instead\n",
      "\n",
      "See the caveats in the documentation: https://pandas.pydata.org/pandas-docs/stable/user_guide/indexing.html#returning-a-view-versus-a-copy\n",
      "  self._setitem_single_column(loc, value[:, i].tolist(), pi)\n",
      "/Users/ronp/opt/anaconda3/lib/python3.9/site-packages/pandas/core/indexing.py:1835: SettingWithCopyWarning: \n",
      "A value is trying to be set on a copy of a slice from a DataFrame.\n",
      "Try using .loc[row_indexer,col_indexer] = value instead\n",
      "\n",
      "See the caveats in the documentation: https://pandas.pydata.org/pandas-docs/stable/user_guide/indexing.html#returning-a-view-versus-a-copy\n",
      "  self._setitem_single_column(loc, value[:, i].tolist(), pi)\n",
      "/Users/ronp/opt/anaconda3/lib/python3.9/site-packages/pandas/core/indexing.py:1835: SettingWithCopyWarning: \n",
      "A value is trying to be set on a copy of a slice from a DataFrame.\n",
      "Try using .loc[row_indexer,col_indexer] = value instead\n",
      "\n",
      "See the caveats in the documentation: https://pandas.pydata.org/pandas-docs/stable/user_guide/indexing.html#returning-a-view-versus-a-copy\n",
      "  self._setitem_single_column(loc, value[:, i].tolist(), pi)\n",
      "/Users/ronp/opt/anaconda3/lib/python3.9/site-packages/pandas/core/indexing.py:1835: SettingWithCopyWarning: \n",
      "A value is trying to be set on a copy of a slice from a DataFrame.\n",
      "Try using .loc[row_indexer,col_indexer] = value instead\n",
      "\n",
      "See the caveats in the documentation: https://pandas.pydata.org/pandas-docs/stable/user_guide/indexing.html#returning-a-view-versus-a-copy\n",
      "  self._setitem_single_column(loc, value[:, i].tolist(), pi)\n",
      "/Users/ronp/opt/anaconda3/lib/python3.9/site-packages/pandas/core/indexing.py:1835: SettingWithCopyWarning: \n",
      "A value is trying to be set on a copy of a slice from a DataFrame.\n",
      "Try using .loc[row_indexer,col_indexer] = value instead\n",
      "\n",
      "See the caveats in the documentation: https://pandas.pydata.org/pandas-docs/stable/user_guide/indexing.html#returning-a-view-versus-a-copy\n",
      "  self._setitem_single_column(loc, value[:, i].tolist(), pi)\n",
      "/Users/ronp/opt/anaconda3/lib/python3.9/site-packages/pandas/core/indexing.py:1835: SettingWithCopyWarning: \n",
      "A value is trying to be set on a copy of a slice from a DataFrame.\n",
      "Try using .loc[row_indexer,col_indexer] = value instead\n",
      "\n",
      "See the caveats in the documentation: https://pandas.pydata.org/pandas-docs/stable/user_guide/indexing.html#returning-a-view-versus-a-copy\n",
      "  self._setitem_single_column(loc, value[:, i].tolist(), pi)\n",
      "/Users/ronp/opt/anaconda3/lib/python3.9/site-packages/pandas/core/indexing.py:1835: SettingWithCopyWarning: \n",
      "A value is trying to be set on a copy of a slice from a DataFrame.\n",
      "Try using .loc[row_indexer,col_indexer] = value instead\n",
      "\n",
      "See the caveats in the documentation: https://pandas.pydata.org/pandas-docs/stable/user_guide/indexing.html#returning-a-view-versus-a-copy\n",
      "  self._setitem_single_column(loc, value[:, i].tolist(), pi)\n",
      "/Users/ronp/opt/anaconda3/lib/python3.9/site-packages/pandas/core/indexing.py:1835: SettingWithCopyWarning: \n",
      "A value is trying to be set on a copy of a slice from a DataFrame.\n",
      "Try using .loc[row_indexer,col_indexer] = value instead\n",
      "\n",
      "See the caveats in the documentation: https://pandas.pydata.org/pandas-docs/stable/user_guide/indexing.html#returning-a-view-versus-a-copy\n",
      "  self._setitem_single_column(loc, value[:, i].tolist(), pi)\n",
      "/Users/ronp/opt/anaconda3/lib/python3.9/site-packages/pandas/core/indexing.py:1835: SettingWithCopyWarning: \n",
      "A value is trying to be set on a copy of a slice from a DataFrame.\n",
      "Try using .loc[row_indexer,col_indexer] = value instead\n",
      "\n",
      "See the caveats in the documentation: https://pandas.pydata.org/pandas-docs/stable/user_guide/indexing.html#returning-a-view-versus-a-copy\n",
      "  self._setitem_single_column(loc, value[:, i].tolist(), pi)\n"
     ]
    }
   ],
   "source": [
    "all_f_df = add_features(raw_df)\n",
    "#print(all_f_df)\n",
    "\n",
    "foi_df = all_f_df[list(cols)]\n",
    "#print(foi_df.shape)\n",
    "#print(foi_df)\n",
    "\n",
    "s_foi_df = standardize_foi(cols, foi_df)\n",
    "\n",
    "X = s_foi_df.copy()\n",
    "y = prepare_y(raw_df)\n",
    "\n",
    "lab_enc = preprocessing.LabelEncoder()\n",
    "y_encoded = lab_enc.fit_transform(y)\n",
    "\n",
    "# count = y.value_counts()\n",
    "# print(count)\n",
    "\n",
    "#X"
   ]
  },
  {
   "cell_type": "code",
   "execution_count": 7,
   "id": "2f52a2ac",
   "metadata": {},
   "outputs": [
    {
     "name": "stdout",
     "output_type": "stream",
     "text": [
      "Logistical Regression - Imbalanced Mean Accuracy: 0.823\n",
      "Logistical Regression - Imbalanced Precision: 1.000\n",
      "Logistical Regression - Imbalanced Recall: 0.016\n",
      "Logistical Regression - Imbalanced Accuracy: 0.788\n",
      "Logistical Regression - Imbalanced F1 Score: 0.031\n"
     ]
    }
   ],
   "source": [
    "from sklearn.linear_model import LogisticRegression\n",
    "from sklearn.model_selection import train_test_split\n",
    "from sklearn.metrics import precision_score, recall_score, f1_score, accuracy_score\n",
    "\n",
    "model_lr = LogisticRegression()\n",
    "model_lr.fit(X, y_encoded)\n",
    "mean_acc = model_lr.score(X, y_encoded)\n",
    "\n",
    "print(\"Logistical Regression - Imbalanced Mean Accuracy: %.3f\" % mean_acc)\n",
    "\n",
    "X_train, X_test, y_train, y_test = train_test_split(X, y_encoded, test_size=0.2, random_state=0)\n",
    "model_lr.fit(X_train, y_train)\n",
    "y_pred = model_lr.predict(X_test)\n",
    "\n",
    "print('Logistical Regression - Imbalanced Precision: %.3f' % precision_score(y_test, y_pred))\n",
    "print('Logistical Regression - Imbalanced Recall: %.3f' % recall_score(y_test, y_pred))\n",
    "print('Logistical Regression - Imbalanced Accuracy: %.3f' % accuracy_score(y_test, y_pred))\n",
    "print('Logistical Regression - Imbalanced F1 Score: %.3f' % f1_score(y_test, y_pred))"
   ]
  },
  {
   "cell_type": "code",
   "execution_count": 8,
   "id": "b36707ac",
   "metadata": {},
   "outputs": [],
   "source": [
    "# import sys\n",
    "# !{sys.executable} -m pip install imblearn"
   ]
  },
  {
   "cell_type": "code",
   "execution_count": 9,
   "id": "e1f4e431",
   "metadata": {},
   "outputs": [
    {
     "name": "stdout",
     "output_type": "stream",
     "text": [
      "Logistical Regression - Undersampling Precision: 0.296\n",
      "Logistical Regression - Undersampling Recall: 0.587\n",
      "Logistical Regression - Undersampling Accuracy: 0.610\n",
      "Logistical Regression - Undersampling F1 Score: 0.394\n"
     ]
    }
   ],
   "source": [
    "from imblearn import under_sampling, over_sampling\n",
    "from imblearn.under_sampling import RandomUnderSampler\n",
    "\n",
    "X_train, X_test, y_train, y_test = train_test_split(X, y_encoded, test_size=0.2, random_state=0)\n",
    "\n",
    "rus = RandomUnderSampler(random_state=0)\n",
    "X_train_rus, y_train_rus = rus.fit_resample(X_train, y_train)\n",
    "\n",
    "model_lr_u = LogisticRegression()\n",
    "model_lr_u.fit(X_train_rus, y_train_rus)\n",
    "y_pred = model_lr_u.predict(X_test)\n",
    "\n",
    "print('Logistical Regression - Undersampling Precision: %.3f' % precision_score(y_test, y_pred))\n",
    "print('Logistical Regression - Undersampling Recall: %.3f' % recall_score(y_test, y_pred))\n",
    "print('Logistical Regression - Undersampling Accuracy: %.3f' % accuracy_score(y_test, y_pred))\n",
    "print('Logistical Regression - Undersampling F1 Score: %.3f' % f1_score(y_test, y_pred))"
   ]
  },
  {
   "cell_type": "code",
   "execution_count": 10,
   "id": "2ace1ff2",
   "metadata": {},
   "outputs": [
    {
     "name": "stdout",
     "output_type": "stream",
     "text": [
      "Logistical Regression - Oversampling Precision: 0.301\n",
      "Logistical Regression - Oversampling Recall: 0.540\n",
      "Logistical Regression - Oversampling Accuracy: 0.630\n",
      "Logistical Regression - Oversampling F1 Score: 0.386\n"
     ]
    }
   ],
   "source": [
    "from imblearn.over_sampling import RandomOverSampler\n",
    "\n",
    "X_train, X_test, y_train, y_test = train_test_split(X, y_encoded, test_size=0.2, random_state=0)\n",
    "\n",
    "ros = RandomOverSampler(random_state=0)\n",
    "X_train_ros, y_train_ros = ros.fit_resample(X_train, y_train)\n",
    "\n",
    "model_lr_o = LogisticRegression()\n",
    "model_lr_o.fit(X_train_ros, y_train_ros)\n",
    "y_pred = model_lr_o.predict(X_test)\n",
    "\n",
    "print('Logistical Regression - Oversampling Precision: %.3f' % precision_score(y_test, y_pred))\n",
    "print('Logistical Regression - Oversampling Recall: %.3f' % recall_score(y_test, y_pred))\n",
    "print('Logistical Regression - Oversampling Accuracy: %.3f' % accuracy_score(y_test, y_pred))\n",
    "print('Logistical Regression - Oversampling F1 Score: %.3f' % f1_score(y_test, y_pred))"
   ]
  },
  {
   "cell_type": "code",
   "execution_count": 11,
   "id": "df0d1bb4",
   "metadata": {},
   "outputs": [
    {
     "data": {
      "text/plain": [
       "0.21869782971619364"
      ]
     },
     "execution_count": 11,
     "metadata": {},
     "output_type": "execute_result"
    }
   ],
   "source": [
    "count = y.value_counts()\n",
    "i_r = count[1]/count[0] # initial_ratio of minority to majority class\n",
    "i_r"
   ]
  },
  {
   "cell_type": "code",
   "execution_count": 12,
   "id": "2c6e70e6",
   "metadata": {},
   "outputs": [
    {
     "name": "stdout",
     "output_type": "stream",
     "text": [
      "When undersampling, the optimum minority class ratio: 0.82\n"
     ]
    }
   ],
   "source": [
    "best_accuracy_score = 0\n",
    "best_f1_score = 0\n",
    "best_min_samp_ratio = 0\n",
    "\n",
    "for x in range(0,500):\n",
    "    if ((1+x/100)*i_r) <= 1:\n",
    "        X_train, X_test, y_train, y_test = train_test_split(X, y_encoded, test_size=0.2, random_state=0)\n",
    "\n",
    "        rus_weighted = RandomUnderSampler(random_state=0, sampling_strategy=(1+x/100)*i_r)\n",
    "        X_train_rus, y_train_rus = rus_weighted.fit_resample(X_train, y_train)\n",
    "\n",
    "        model_lr_u = LogisticRegression()\n",
    "        model_lr_u.fit(X_train_rus, y_train_rus)\n",
    "        y_pred = model_lr_u.predict(X_test)\n",
    "\n",
    "        current_accuracy_score = accuracy_score(y_test, y_pred)\n",
    "        current_f1_score = f1_score(y_test, y_pred)\n",
    "        current_min_samp_ratio = (1+x/100)*i_r\n",
    "\n",
    "        if (current_accuracy_score*current_f1_score > best_accuracy_score*best_f1_score):\n",
    "            best_accuracy_score = current_accuracy_score\n",
    "            best_f1_score = current_f1_score\n",
    "            best_min_samp_ratio = current_min_samp_ratio\n",
    "        \n",
    "print('When undersampling, the optimum minority class ratio: %.2f' % best_min_samp_ratio)"
   ]
  },
  {
   "cell_type": "code",
   "execution_count": 13,
   "id": "5bdaeaab",
   "metadata": {},
   "outputs": [
    {
     "name": "stdout",
     "output_type": "stream",
     "text": [
      "Logistical Regression - Undersampling, weighted Precision: 0.355\n",
      "Logistical Regression - Undersampling, weighted Recall: 0.429\n",
      "Logistical Regression - Undersampling, weighted Accuracy: 0.709\n",
      "Logistical Regression - Undersampling, weighted F1 Score: 0.388\n"
     ]
    }
   ],
   "source": [
    "X_train, X_test, y_train, y_test = train_test_split(X, y_encoded, test_size=0.2, random_state=0)\n",
    "\n",
    "rus_weighted = RandomUnderSampler(random_state=0, sampling_strategy=0.82)\n",
    "X_train_rus, y_train_rus = rus_weighted.fit_resample(X_train, y_train)\n",
    "\n",
    "model_lr_u = LogisticRegression()\n",
    "model_lr_u.fit(X_train_rus, y_train_rus)\n",
    "y_pred = model_lr_u.predict(X_test)\n",
    "\n",
    "print('Logistical Regression - Undersampling, weighted Precision: %.3f' % precision_score(y_test, y_pred))\n",
    "print('Logistical Regression - Undersampling, weighted Recall: %.3f' % recall_score(y_test, y_pred))\n",
    "print('Logistical Regression - Undersampling, weighted Accuracy: %.3f' % accuracy_score(y_test, y_pred))\n",
    "print('Logistical Regression - Undersampling, weighted F1 Score: %.3f' % f1_score(y_test, y_pred))"
   ]
  },
  {
   "cell_type": "code",
   "execution_count": 14,
   "id": "4ea2a461",
   "metadata": {},
   "outputs": [
    {
     "name": "stdout",
     "output_type": "stream",
     "text": [
      "When oversampling, the optimum minority class ratio: 0.97\n"
     ]
    }
   ],
   "source": [
    "best_accuracy_score = 0\n",
    "best_f1_score = 0\n",
    "best_min_samp_ratio = 0\n",
    "\n",
    "for x in range(0,500):\n",
    "    if ((1+x/100)*i_r) <= 1:\n",
    "        X_train, X_test, y_train, y_test = train_test_split(X, y_encoded, test_size=0.2, random_state=0)\n",
    "\n",
    "        ros_weighted = RandomOverSampler(random_state=0, sampling_strategy=(1+x/100)*i_r)\n",
    "        X_train_ros, y_train_ros = ros_weighted.fit_resample(X_train, y_train)\n",
    "\n",
    "        model_lr_o = LogisticRegression()\n",
    "        model_lr_o.fit(X_train_ros, y_train_ros)\n",
    "        y_pred = model_lr_o.predict(X_test)\n",
    "\n",
    "        current_accuracy_score = accuracy_score(y_test, y_pred)\n",
    "        current_f1_score = f1_score(y_test, y_pred)\n",
    "        current_min_samp_ratio = (1+x/100)*i_r\n",
    "\n",
    "        if (current_accuracy_score*current_f1_score > best_accuracy_score*best_f1_score):\n",
    "            best_accuracy_score = current_accuracy_score\n",
    "            best_f1_score = current_f1_score\n",
    "            best_min_samp_ratio = current_min_samp_ratio\n",
    "        \n",
    "print('When oversampling, the optimum minority class ratio: %.2f' % best_min_samp_ratio)"
   ]
  },
  {
   "cell_type": "code",
   "execution_count": 15,
   "id": "948ea919",
   "metadata": {},
   "outputs": [
    {
     "name": "stdout",
     "output_type": "stream",
     "text": [
      "Logistical Regression - Oversampling, weighted Precision: 0.310\n",
      "Logistical Regression - Oversampling, weighted Recall: 0.492\n",
      "Logistical Regression - Oversampling, weighted Accuracy: 0.654\n",
      "Logistical Regression - Oversampling, weighted F1 Score: 0.380\n"
     ]
    }
   ],
   "source": [
    "X_train, X_test, y_train, y_test = train_test_split(X, y_encoded, test_size=0.2, random_state=0)\n",
    "\n",
    "ros_weighted = RandomOverSampler(random_state=0, sampling_strategy=.97)\n",
    "X_train_ros, y_train_ros = ros_weighted.fit_resample(X_train, y_train)\n",
    "\n",
    "model_lr_o = LogisticRegression()\n",
    "model_lr_o.fit(X_train_ros, y_train_ros)\n",
    "y_pred = model_lr_o.predict(X_test)\n",
    "\n",
    "print('Logistical Regression - Oversampling, weighted Precision: %.3f' % precision_score(y_test, y_pred))\n",
    "print('Logistical Regression - Oversampling, weighted Recall: %.3f' % recall_score(y_test, y_pred))\n",
    "print('Logistical Regression - Oversampling, weighted Accuracy: %.3f' % accuracy_score(y_test, y_pred))\n",
    "print('Logistical Regression - Oversampling, weighted F1 Score: %.3f' % f1_score(y_test, y_pred))"
   ]
  },
  {
   "cell_type": "code",
   "execution_count": 16,
   "id": "59ac1553",
   "metadata": {},
   "outputs": [
    {
     "name": "stdout",
     "output_type": "stream",
     "text": [
      "When imbalanced, the optimum number of estimators is 13\n"
     ]
    }
   ],
   "source": [
    "from sklearn.ensemble import RandomForestClassifier\n",
    "\n",
    "best_accuracy_score = 0\n",
    "best_f1_score = 0\n",
    "best_n_estimator = 0\n",
    "\n",
    "for x in range(1,100):\n",
    "\n",
    "    X_train, X_test, y_train, y_test = train_test_split(X, y_encoded, test_size=0.2, random_state=0)\n",
    "\n",
    "#     ros_weighted = RandomOverSampler(random_state=0, sampling_strategy=(1+x/100)*i_r)\n",
    "#     X_train_ros, y_train_ros = ros_weighted.fit_resample(X_train, y_train)\n",
    "\n",
    "    rfc = RandomForestClassifier(n_estimators=x, random_state=0)\n",
    "    rfc.fit(X_train, y_train)\n",
    "    y_pred = rfc.predict(X_test)\n",
    "    \n",
    "    current_accuracy_score = accuracy_score(y_test, y_pred)\n",
    "    current_f1_score = f1_score(y_test, y_pred)\n",
    "\n",
    "    if (current_accuracy_score*current_f1_score > best_accuracy_score*best_f1_score):\n",
    "        best_accuracy_score = current_accuracy_score\n",
    "        best_f1_score = current_f1_score\n",
    "        best_n_estimator = x\n",
    "        \n",
    "print('When imbalanced, the optimum number of estimators is', best_n_estimator)"
   ]
  },
  {
   "cell_type": "code",
   "execution_count": 17,
   "id": "d034ddcd",
   "metadata": {},
   "outputs": [
    {
     "name": "stdout",
     "output_type": "stream",
     "text": [
      "Random Forest Classifier - Imbalanced Precision: 0.565\n",
      "Random Forest Classifier - Imbalanced Recall: 0.206\n",
      "Random Forest Classifier - Imbalanced Accuracy: 0.795\n",
      "Random Forest Classifier - Imbalanced F1 Score: 0.302\n"
     ]
    }
   ],
   "source": [
    "X_train, X_test, y_train, y_test = train_test_split(X, y_encoded, test_size=0.2, random_state=0)\n",
    "\n",
    "rfc = RandomForestClassifier(n_estimators=13, random_state=0)\n",
    "rfc.fit(X_train, y_train)\n",
    "y_pred = rfc.predict(X_test)\n",
    "\n",
    "print('Random Forest Classifier - Imbalanced Precision: %.3f' % precision_score(y_test, y_pred))\n",
    "print('Random Forest Classifier - Imbalanced Recall: %.3f' % recall_score(y_test, y_pred))\n",
    "print('Random Forest Classifier - Imbalanced Accuracy: %.3f' % accuracy_score(y_test, y_pred))\n",
    "print('Random Forest Classifier - Imbalanced F1 Score: %.3f' % f1_score(y_test, y_pred))"
   ]
  },
  {
   "cell_type": "code",
   "execution_count": 18,
   "id": "1b94f517",
   "metadata": {},
   "outputs": [
    {
     "name": "stdout",
     "output_type": "stream",
     "text": [
      "Random Forest Classifier - Undersampling Precision: 0.286\n",
      "Random Forest Classifier - Undersampling Recall: 0.571\n",
      "Random Forest Classifier - Undersampling Accuracy: 0.599\n",
      "Random Forest Classifier - Undersampling F1 Score: 0.381\n"
     ]
    }
   ],
   "source": [
    "X_train, X_test, y_train, y_test = train_test_split(X, y_encoded, test_size=0.2, random_state=0)\n",
    "\n",
    "rus = RandomUnderSampler(random_state=0)\n",
    "X_train_rus, y_train_rus = rus.fit_resample(X_train, y_train)\n",
    "\n",
    "rfc_u = RandomForestClassifier(n_estimators=13, random_state=0)\n",
    "rfc_u.fit(X_train_rus, y_train_rus)\n",
    "y_pred = rfc_u.predict(X_test)\n",
    "\n",
    "print('Random Forest Classifier - Undersampling Precision: %.3f' % precision_score(y_test, y_pred))\n",
    "print('Random Forest Classifier - Undersampling Recall: %.3f' % recall_score(y_test, y_pred))\n",
    "print('Random Forest Classifier - Undersampling Accuracy: %.3f' % accuracy_score(y_test, y_pred))\n",
    "print('Random Forest Classifier - Undersampling F1 Score: %.3f' % f1_score(y_test, y_pred))"
   ]
  },
  {
   "cell_type": "code",
   "execution_count": 33,
   "id": "e3cdab1d",
   "metadata": {},
   "outputs": [
    {
     "name": "stdout",
     "output_type": "stream",
     "text": [
      "When undersampling, the optimum minority class ratio: 0.52\n",
      "When undersampling, the optimum n_estimator: 21\n"
     ]
    }
   ],
   "source": [
    "best_accuracy_score = 0\n",
    "best_f1_score = 0\n",
    "best_min_samp_ratio = 0\n",
    "best_n_estimator = 1\n",
    "\n",
    "for y in range(1,25):\n",
    "    for x in range(100,550):\n",
    "        if ((x/100)*i_r) <= 1:\n",
    "            X_train, X_test, y_train, y_test = train_test_split(X, y_encoded, test_size=0.2, random_state=0)\n",
    "\n",
    "            rus_weighted = RandomUnderSampler(random_state=0, sampling_strategy=(x/100)*i_r)\n",
    "            X_train_rus, y_train_rus = rus_weighted.fit_resample(X_train, y_train)\n",
    "\n",
    "            rfc_u = RandomForestClassifier(n_estimators=y, random_state=0)\n",
    "            rfc_u.fit(X_train_rus, y_train_rus)\n",
    "            y_pred = rfc_u.predict(X_test)\n",
    "\n",
    "            current_accuracy_score = accuracy_score(y_test, y_pred)\n",
    "            current_f1_score = f1_score(y_test, y_pred)\n",
    "            current_min_samp_ratio = (x/100)*i_r\n",
    "\n",
    "            if (current_accuracy_score*current_f1_score > best_accuracy_score*best_f1_score):\n",
    "                best_accuracy_score = current_accuracy_score\n",
    "                best_f1_score = current_f1_score\n",
    "                best_min_samp_ratio = current_min_samp_ratio\n",
    "                best_n_estimator = y\n",
    "        \n",
    "print('When undersampling, the optimum minority class ratio: %.2f' % best_min_samp_ratio)\n",
    "print('When undersampling, the optimum n_estimator:', best_n_estimator)"
   ]
  },
  {
   "cell_type": "code",
   "execution_count": 34,
   "id": "67b5bba1",
   "metadata": {},
   "outputs": [
    {
     "name": "stdout",
     "output_type": "stream",
     "text": [
      "Random Forest Classifier - Undersampling, weighted Precision: 0.446\n",
      "Random Forest Classifier - Undersampling, weighted Recall: 0.397\n",
      "Random Forest Classifier - Undersampling, weighted Accuracy: 0.764\n",
      "Random Forest Classifier - Undersampling, weighted F1 Score: 0.420\n"
     ]
    }
   ],
   "source": [
    "X_train, X_test, y_train, y_test = train_test_split(X, y_encoded, test_size=0.2, random_state=0)\n",
    "\n",
    "rus = RandomUnderSampler(random_state=0, sampling_strategy=0.52)\n",
    "X_train_rus, y_train_rus = rus.fit_resample(X_train, y_train)\n",
    "\n",
    "rfc_u = RandomForestClassifier(n_estimators=21, random_state=0)\n",
    "rfc_u.fit(X_train_rus, y_train_rus)\n",
    "y_pred = rfc_u.predict(X_test)\n",
    "\n",
    "print('Random Forest Classifier - Undersampling, weighted Precision: %.3f' % precision_score(y_test, y_pred))\n",
    "print('Random Forest Classifier - Undersampling, weighted Recall: %.3f' % recall_score(y_test, y_pred))\n",
    "print('Random Forest Classifier - Undersampling, weighted Accuracy: %.3f' % accuracy_score(y_test, y_pred))\n",
    "print('Random Forest Classifier - Undersampling, weighted F1 Score: %.3f' % f1_score(y_test, y_pred))"
   ]
  },
  {
   "cell_type": "code",
   "execution_count": 21,
   "id": "85379881",
   "metadata": {},
   "outputs": [
    {
     "name": "stdout",
     "output_type": "stream",
     "text": [
      "Random Forest Classifier - Oversampling Precision: 0.341\n",
      "Random Forest Classifier - Oversampling Recall: 0.222\n",
      "Random Forest Classifier - Oversampling Accuracy: 0.740\n",
      "Random Forest Classifier - Oversampling F1 Score: 0.269\n"
     ]
    }
   ],
   "source": [
    "X_train, X_test, y_train, y_test = train_test_split(X, y_encoded, test_size=0.2, random_state=0)\n",
    "\n",
    "ros = RandomOverSampler(random_state=0)\n",
    "X_train_ros, y_train_ros = ros.fit_resample(X_train, y_train)\n",
    "\n",
    "rfc_o = RandomForestClassifier(n_estimators=13, random_state=0)\n",
    "rfc_o.fit(X_train_ros, y_train_ros)\n",
    "y_pred = rfc_o.predict(X_test)\n",
    "\n",
    "print('Random Forest Classifier - Oversampling Precision: %.3f' % precision_score(y_test, y_pred))\n",
    "print('Random Forest Classifier - Oversampling Recall: %.3f' % recall_score(y_test, y_pred))\n",
    "print('Random Forest Classifier - Oversampling Accuracy: %.3f' % accuracy_score(y_test, y_pred))\n",
    "print('Random Forest Classifier - Oversampling F1 Score: %.3f' % f1_score(y_test, y_pred))"
   ]
  },
  {
   "cell_type": "code",
   "execution_count": 22,
   "id": "7696d09e",
   "metadata": {},
   "outputs": [
    {
     "name": "stdout",
     "output_type": "stream",
     "text": [
      "When oversampling, the optimum minority class ratio: 0.97\n",
      "When oversampling, the optimum n_estimator: 7\n"
     ]
    }
   ],
   "source": [
    "best_accuracy_score = 0\n",
    "best_f1_score = 0\n",
    "best_min_samp_ratio = 0\n",
    "best_n_estimator = 1\n",
    "\n",
    "for y in range(1,20):\n",
    "    for x in range(100,550):\n",
    "        if ((x/100)*i_r) <= 1:\n",
    "            X_train, X_test, y_train, y_test = train_test_split(X, y_encoded, test_size=0.2, random_state=0)\n",
    "\n",
    "            ros_weighted = RandomOverSampler(random_state=0, sampling_strategy=(x/100)*i_r)\n",
    "            X_train_ros, y_train_ros = ros_weighted.fit_resample(X_train, y_train)\n",
    "\n",
    "            rfc_o = RandomForestClassifier(n_estimators=y, random_state=0)\n",
    "            rfc_o.fit(X_train_ros, y_train_ros)\n",
    "            y_pred = rfc_o.predict(X_test)\n",
    "\n",
    "            current_accuracy_score = accuracy_score(y_test, y_pred)\n",
    "            current_f1_score = f1_score(y_test, y_pred)\n",
    "            current_min_samp_ratio = (x/100)*i_r\n",
    "\n",
    "            if (current_accuracy_score*current_f1_score > best_accuracy_score*best_f1_score):\n",
    "                best_accuracy_score = current_accuracy_score\n",
    "                best_f1_score = current_f1_score\n",
    "                best_min_samp_ratio = current_min_samp_ratio\n",
    "                best_n_estimator = y\n",
    "        \n",
    "print('When oversampling, the optimum minority class ratio: %.2f' % best_min_samp_ratio)\n",
    "print('When oversampling, the optimum n_estimator:', best_n_estimator)"
   ]
  },
  {
   "cell_type": "code",
   "execution_count": 23,
   "id": "43c79afe",
   "metadata": {},
   "outputs": [
    {
     "name": "stdout",
     "output_type": "stream",
     "text": [
      "Random Forest Classifier - Oversampling, weighted Precision: 0.545\n",
      "Random Forest Classifier - Oversampling, weighted Recall: 0.381\n",
      "Random Forest Classifier - Oversampling, weighted Accuracy: 0.798\n",
      "Random Forest Classifier - Oversampling, weighted F1 Score: 0.449\n"
     ]
    }
   ],
   "source": [
    "X_train, X_test, y_train, y_test = train_test_split(X, y_encoded, test_size=0.2, random_state=0)\n",
    "\n",
    "ros_weighted = RandomOverSampler(random_state=0, sampling_strategy=0.97)\n",
    "X_train_ros, y_train_ros = ros_weighted.fit_resample(X_train, y_train)\n",
    "\n",
    "rfc_o = RandomForestClassifier(n_estimators=7, random_state=0)\n",
    "rfc_o.fit(X_train_ros, y_train_ros)\n",
    "y_pred = rfc_o.predict(X_test)\n",
    "\n",
    "print('Random Forest Classifier - Oversampling, weighted Precision: %.3f' % precision_score(y_test, y_pred))\n",
    "print('Random Forest Classifier - Oversampling, weighted Recall: %.3f' % recall_score(y_test, y_pred))\n",
    "print('Random Forest Classifier - Oversampling, weighted Accuracy: %.3f' % accuracy_score(y_test, y_pred))\n",
    "print('Random Forest Classifier - Oversampling, weighted F1 Score: %.3f' % f1_score(y_test, y_pred))"
   ]
  },
  {
   "cell_type": "code",
   "execution_count": null,
   "id": "240f427e",
   "metadata": {},
   "outputs": [],
   "source": []
  },
  {
   "cell_type": "code",
   "execution_count": 35,
   "id": "3bad47cf",
   "metadata": {},
   "outputs": [
    {
     "name": "stdout",
     "output_type": "stream",
     "text": [
      "Nueral Network (MLPClassifier) - Imbalanced Precision: 0.600\n",
      "Nueral Network (MLPClassifier) - Imbalanced Recall: 0.048\n",
      "Nueral Network (MLPClassifier) - Imbalanced Accuracy: 0.788\n",
      "Nueral Network (MLPClassifier) - Imbalanced F1 Score: 0.088\n"
     ]
    }
   ],
   "source": [
    "from sklearn.neural_network import MLPClassifier\n",
    "\n",
    "X_train, X_test, y_train, y_test = train_test_split(X, y_encoded, test_size=0.2, random_state=0)\n",
    "\n",
    "nn = MLPClassifier(max_iter=1000, activation=\"relu\", hidden_layer_sizes=(10,10))\n",
    "nn.fit(X_train, y_train)\n",
    "y_pred = nn.predict(X_test)\n",
    "\n",
    "print('Nueral Network (MLPClassifier) - Imbalanced Precision: %.3f' % precision_score(y_test, y_pred))\n",
    "print('Nueral Network (MLPClassifier) - Imbalanced Recall: %.3f' % recall_score(y_test, y_pred))\n",
    "print('Nueral Network (MLPClassifier) - Imbalanced Accuracy: %.3f' % accuracy_score(y_test, y_pred))\n",
    "print('Nueral Network (MLPClassifier) - Imbalanced F1 Score: %.3f' % f1_score(y_test, y_pred))"
   ]
  },
  {
   "cell_type": "code",
   "execution_count": 36,
   "id": "8e808323",
   "metadata": {},
   "outputs": [
    {
     "name": "stdout",
     "output_type": "stream",
     "text": [
      "Nueral Network (MLPClassifier) - Undersampling Precision: 0.296\n",
      "Nueral Network (MLPClassifier) - Undersampling Recall: 0.508\n",
      "Nueral Network (MLPClassifier) - Undersampling Accuracy: 0.634\n",
      "Nueral Network (MLPClassifier) - Undersampling F1 Score: 0.374\n"
     ]
    }
   ],
   "source": [
    "X_train, X_test, y_train, y_test = train_test_split(X, y_encoded, test_size=0.2, random_state=0)\n",
    "\n",
    "rus = RandomUnderSampler(random_state=0)\n",
    "X_train_rus, y_train_rus = rus.fit_resample(X_train, y_train)\n",
    "\n",
    "nn = MLPClassifier(max_iter=1000, activation=\"relu\", alpha=0.01, hidden_layer_sizes=(10,10))\n",
    "nn.fit(X_train_rus, y_train_rus)\n",
    "y_pred = nn.predict(X_test)\n",
    "\n",
    "print('Nueral Network (MLPClassifier) - Undersampling Precision: %.3f' % precision_score(y_test, y_pred))\n",
    "print('Nueral Network (MLPClassifier) - Undersampling Recall: %.3f' % recall_score(y_test, y_pred))\n",
    "print('Nueral Network (MLPClassifier) - Undersampling Accuracy: %.3f' % accuracy_score(y_test, y_pred))\n",
    "print('Nueral Network (MLPClassifier) - Undersampling F1 Score: %.3f' % f1_score(y_test, y_pred))"
   ]
  },
  {
   "cell_type": "code",
   "execution_count": 49,
   "id": "b78cb74b",
   "metadata": {},
   "outputs": [
    {
     "name": "stderr",
     "output_type": "stream",
     "text": [
      "/Users/ronp/opt/anaconda3/lib/python3.9/site-packages/sklearn/neural_network/_multilayer_perceptron.py:614: ConvergenceWarning: Stochastic Optimizer: Maximum iterations (1100) reached and the optimization hasn't converged yet.\n",
      "  warnings.warn(\n",
      "/Users/ronp/opt/anaconda3/lib/python3.9/site-packages/sklearn/neural_network/_multilayer_perceptron.py:614: ConvergenceWarning: Stochastic Optimizer: Maximum iterations (1100) reached and the optimization hasn't converged yet.\n",
      "  warnings.warn(\n",
      "/Users/ronp/opt/anaconda3/lib/python3.9/site-packages/sklearn/neural_network/_multilayer_perceptron.py:614: ConvergenceWarning: Stochastic Optimizer: Maximum iterations (1100) reached and the optimization hasn't converged yet.\n",
      "  warnings.warn(\n",
      "/Users/ronp/opt/anaconda3/lib/python3.9/site-packages/sklearn/neural_network/_multilayer_perceptron.py:614: ConvergenceWarning: Stochastic Optimizer: Maximum iterations (1100) reached and the optimization hasn't converged yet.\n",
      "  warnings.warn(\n"
     ]
    },
    {
     "name": "stdout",
     "output_type": "stream",
     "text": [
      "When undersampling, the optimum minority class ratio: 0.59\n",
      "When undersampling, the optimum hidden layer sizes: 19\n"
     ]
    }
   ],
   "source": [
    "best_accuracy_score = 0\n",
    "best_f1_score = 0\n",
    "best_min_samp_ratio = 0\n",
    "best_hidden_layer_sizes = 1\n",
    "\n",
    "for y in range(1,20):\n",
    "    for x in range(20,55):\n",
    "        if ((x/10)*i_r) <= 1:\n",
    "            X_train, X_test, y_train, y_test = train_test_split(X, y_encoded, test_size=0.2, random_state=0)\n",
    "\n",
    "            rus_weighted = RandomUnderSampler(random_state=0, sampling_strategy=(x/10)*i_r)\n",
    "            X_train_rus, y_train_rus = rus_weighted.fit_resample(X_train, y_train)\n",
    "\n",
    "            nn_u = MLPClassifier(max_iter=1100, alpha=0.01, activation=\"relu\", hidden_layer_sizes=(y, y))\n",
    "            nn_u.fit(X_train_rus, y_train_rus)\n",
    "            y_pred = nn_u.predict(X_test)\n",
    "\n",
    "            current_accuracy_score = accuracy_score(y_test, y_pred)\n",
    "            current_f1_score = f1_score(y_test, y_pred)\n",
    "            current_min_samp_ratio = (x/10)*i_r\n",
    "\n",
    "            if (current_accuracy_score*current_f1_score > best_accuracy_score*best_f1_score):\n",
    "                best_accuracy_score = current_accuracy_score\n",
    "                best_f1_score = current_f1_score\n",
    "                best_min_samp_ratio = current_min_samp_ratio\n",
    "                best_hidden_layer_sizes = y\n",
    "        \n",
    "print('When undersampling, the optimum minority class ratio: %.2f' % best_min_samp_ratio)\n",
    "print('When undersampling, the optimum hidden layer sizes:', best_hidden_layer_sizes)"
   ]
  },
  {
   "cell_type": "code",
   "execution_count": 52,
   "id": "d4e219b8",
   "metadata": {},
   "outputs": [
    {
     "name": "stdout",
     "output_type": "stream",
     "text": [
      "Nueral Network (MLPClassifier) - Undersampling, weighted Precision: 0.386\n",
      "Nueral Network (MLPClassifier) - Undersampling, weighted Recall: 0.349\n",
      "Nueral Network (MLPClassifier) - Undersampling, weighted Accuracy: 0.740\n",
      "Nueral Network (MLPClassifier) - Undersampling, weighted F1 Score: 0.367\n"
     ]
    }
   ],
   "source": [
    "X_train, X_test, y_train, y_test = train_test_split(X, y_encoded, test_size=0.2, random_state=0)\n",
    "\n",
    "rus = RandomUnderSampler(random_state=0, sampling_strategy=0.59)\n",
    "X_train_rus, y_train_rus = rus.fit_resample(X_train, y_train)\n",
    "\n",
    "nn = MLPClassifier(max_iter=1000, activation=\"relu\", alpha=0.01, hidden_layer_sizes=(19,19))\n",
    "nn.fit(X_train_rus, y_train_rus)\n",
    "y_pred = nn.predict(X_test)\n",
    "\n",
    "print('Nueral Network (MLPClassifier) - Undersampling, weighted Precision: %.3f' % precision_score(y_test, y_pred))\n",
    "print('Nueral Network (MLPClassifier) - Undersampling, weighted Recall: %.3f' % recall_score(y_test, y_pred))\n",
    "print('Nueral Network (MLPClassifier) - Undersampling, weighted Accuracy: %.3f' % accuracy_score(y_test, y_pred))\n",
    "print('Nueral Network (MLPClassifier) - Undersampling, weighted F1 Score: %.3f' % f1_score(y_test, y_pred))"
   ]
  },
  {
   "cell_type": "code",
   "execution_count": 44,
   "id": "5e9d8917",
   "metadata": {},
   "outputs": [
    {
     "name": "stdout",
     "output_type": "stream",
     "text": [
      "Nueral Network (MLPClassifier) - Oversampling Precision: 0.337\n",
      "Nueral Network (MLPClassifier) - Oversampling Recall: 0.508\n",
      "Nueral Network (MLPClassifier) - Oversampling Accuracy: 0.678\n",
      "Nueral Network (MLPClassifier) - Oversampling F1 Score: 0.405\n"
     ]
    }
   ],
   "source": [
    "X_train, X_test, y_train, y_test = train_test_split(X, y_encoded, test_size=0.2, random_state=0)\n",
    "\n",
    "ros = RandomOverSampler(random_state=0)\n",
    "X_train_ros, y_train_ros = ros.fit_resample(X_train, y_train)\n",
    "\n",
    "nn = MLPClassifier(max_iter=1000, activation=\"relu\", hidden_layer_sizes=(10,10))\n",
    "nn.fit(X_train_ros, y_train_ros)\n",
    "y_pred = nn.predict(X_test)\n",
    "\n",
    "print('Nueral Network (MLPClassifier) - Oversampling Precision: %.3f' % precision_score(y_test, y_pred))\n",
    "print('Nueral Network (MLPClassifier) - Oversampling Recall: %.3f' % recall_score(y_test, y_pred))\n",
    "print('Nueral Network (MLPClassifier) - Oversampling Accuracy: %.3f' % accuracy_score(y_test, y_pred))\n",
    "print('Nueral Network (MLPClassifier) - Oversampling F1 Score: %.3f' % f1_score(y_test, y_pred))"
   ]
  },
  {
   "cell_type": "code",
   "execution_count": 50,
   "id": "4c8f62f4",
   "metadata": {},
   "outputs": [
    {
     "name": "stdout",
     "output_type": "stream",
     "text": [
      "When undersampling, the optimum minority class ratio: 0.72\n",
      "When undersampling, the optimum hidden layer sizes: 17\n"
     ]
    }
   ],
   "source": [
    "best_accuracy_score = 0\n",
    "best_f1_score = 0\n",
    "best_min_samp_ratio = 0\n",
    "best_hidden_layer_sizes = 1\n",
    "\n",
    "for y in range(1,20):\n",
    "    for x in range(20,55):\n",
    "        if ((x/10)*i_r) <= 1:\n",
    "            X_train, X_test, y_train, y_test = train_test_split(X, y_encoded, test_size=0.2, random_state=0)\n",
    "\n",
    "            ros_weighted = RandomOverSampler(random_state=0, sampling_strategy=(x/10)*i_r)\n",
    "            X_train_ros, y_train_ros = ros_weighted.fit_resample(X_train, y_train)\n",
    "\n",
    "            nn_o = MLPClassifier(max_iter=1100, alpha=0.01, activation=\"relu\", hidden_layer_sizes=(y, y))\n",
    "            nn_o.fit(X_train_ros, y_train_ros)\n",
    "            y_pred = nn_o.predict(X_test)\n",
    "\n",
    "            current_accuracy_score = accuracy_score(y_test, y_pred)\n",
    "            current_f1_score = f1_score(y_test, y_pred)\n",
    "            current_min_samp_ratio = (x/10)*i_r\n",
    "\n",
    "            if (current_accuracy_score*current_f1_score > best_accuracy_score*best_f1_score):\n",
    "                best_accuracy_score = current_accuracy_score\n",
    "                best_f1_score = current_f1_score\n",
    "                best_min_samp_ratio = current_min_samp_ratio\n",
    "                best_hidden_layer_sizes = y\n",
    "        \n",
    "print('When oversampling, the optimum minority class ratio: %.2f' % best_min_samp_ratio)\n",
    "print('When oversampling, the optimum hidden layer sizes:', best_hidden_layer_sizes)"
   ]
  },
  {
   "cell_type": "code",
   "execution_count": 51,
   "id": "7ad443d5",
   "metadata": {},
   "outputs": [
    {
     "name": "stdout",
     "output_type": "stream",
     "text": [
      "Nueral Network (MLPClassifier) - Oversampling, weighted Precision: 0.358\n",
      "Nueral Network (MLPClassifier) - Oversampling, weighted Recall: 0.302\n",
      "Nueral Network (MLPClassifier) - Oversampling, weighted Accuracy: 0.733\n",
      "Nueral Network (MLPClassifier) - Oversampling, weighted F1 Score: 0.328\n"
     ]
    }
   ],
   "source": [
    "X_train, X_test, y_train, y_test = train_test_split(X, y_encoded, test_size=0.2, random_state=0)\n",
    "\n",
    "ros_weighted = RandomOverSampler(random_state=0, sampling_strategy=0.72)\n",
    "X_train_ros, y_train_ros = ros_weighted.fit_resample(X_train, y_train)\n",
    "\n",
    "nn = MLPClassifier(max_iter=1100, activation=\"relu\", alpha=0.01, hidden_layer_sizes=(17,17))\n",
    "nn.fit(X_train_ros, y_train_ros)\n",
    "y_pred = nn.predict(X_test)\n",
    "\n",
    "print('Nueral Network (MLPClassifier) - Oversampling, weighted Precision: %.3f' % precision_score(y_test, y_pred))\n",
    "print('Nueral Network (MLPClassifier) - Oversampling, weighted Recall: %.3f' % recall_score(y_test, y_pred))\n",
    "print('Nueral Network (MLPClassifier) - Oversampling, weighted Accuracy: %.3f' % accuracy_score(y_test, y_pred))\n",
    "print('Nueral Network (MLPClassifier) - Oversampling, weighted F1 Score: %.3f' % f1_score(y_test, y_pred))"
   ]
  },
  {
   "cell_type": "code",
   "execution_count": null,
   "id": "d6c9cae7",
   "metadata": {},
   "outputs": [],
   "source": []
  }
 ],
 "metadata": {
  "kernelspec": {
   "display_name": "Python 3 (ipykernel)",
   "language": "python",
   "name": "python3"
  },
  "language_info": {
   "codemirror_mode": {
    "name": "ipython",
    "version": 3
   },
   "file_extension": ".py",
   "mimetype": "text/x-python",
   "name": "python",
   "nbconvert_exporter": "python",
   "pygments_lexer": "ipython3",
   "version": "3.9.7"
  }
 },
 "nbformat": 4,
 "nbformat_minor": 5
}
